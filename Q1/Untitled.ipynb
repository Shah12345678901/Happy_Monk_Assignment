{
 "cells": [
  {
   "cell_type": "code",
   "execution_count": 1,
   "id": "95279127",
   "metadata": {},
   "outputs": [],
   "source": [
    "import pandas as pd\n",
    "A=pd.read_csv(\"D:/HappyMonk.ai/1/insurance.csv\")\n",
    "B=A[:200]\n",
    "A=A[\"age\"]\n",
    "B=B[\"age\"]"
   ]
  },
  {
   "cell_type": "code",
   "execution_count": 19,
   "id": "f1b48941",
   "metadata": {},
   "outputs": [
    {
     "name": "stdout",
     "output_type": "stream",
     "text": [
      "Datasets A and B do not identify the same variable\n"
     ]
    }
   ],
   "source": [
    "import numpy as np\n",
    "\n",
    "# Load datasets A and B\n",
    "#A = np.loadtxt('A.csv', delimiter=',')\n",
    "#B = np.loadtxt('B.csv', delimiter=',')\n",
    "\n",
    "# Calculate summary statistics for each dataset\n",
    "mean_A = np.mean(A)\n",
    "mean_B = np.mean(B)\n",
    "\n",
    "std_A = np.std(A)\n",
    "std_B = np.std(B)\n",
    "\n",
    "corr_A = np.corrcoef(A)\n",
    "corr_B = np.corrcoef(B)\n",
    "\n",
    "# Compare summary statistics\n",
    "if mean_A == mean_B and std_A == std_B and np.allclose(corr_A, corr_B):\n",
    "    print('Datasets A and B identify the same variable')\n",
    "else:\n",
    "    print('Datasets A and B do not identify the same variable')\n"
   ]
  },
  {
   "cell_type": "code",
   "execution_count": 21,
   "id": "6a0177d5",
   "metadata": {},
   "outputs": [
    {
     "name": "stdout",
     "output_type": "stream",
     "text": [
      "The means of the two datasets are not similar\n",
      "The standard deviations of the two datasets are not similar\n",
      "The two datasets likely come from the same distribution\n"
     ]
    }
   ],
   "source": [
    "import numpy as np\n",
    "import scipy.stats as stats\n",
    "data_A=np.array(A)\n",
    "data_B=np.array(B)\n",
    "# Load the two datasets\n",
    "#data_A = np.load('A.npy')\n",
    "#data_B = np.load('B.npy')\n",
    "\n",
    "# Calculate basic statistical properties of the two datasets\n",
    "mean_A = np.mean(data_A)\n",
    "mean_B = np.mean(data_B)\n",
    "std_A = np.std(data_A)\n",
    "std_B = np.std(data_B)\n",
    "\n",
    "# Compare the means of the two datasets\n",
    "if np.abs(mean_A - mean_B) < 0.01:\n",
    "  print('The means of the two datasets are similar')\n",
    "else:\n",
    "  print('The means of the two datasets are not similar')\n",
    "\n",
    "# Compare the standard deviations of the two datasets\n",
    "if np.abs(std_A - std_B) < 0.01:\n",
    "  print('The standard deviations of the two datasets are similar')\n",
    "else:\n",
    "  print('The standard deviations of the two datasets are not similar')\n",
    "\n",
    "# Perform a t-test to determine whether the two datasets come from the same distribution\n",
    "t, p = stats.ttest_ind(data_A, data_B)\n",
    "if p > 0.01:\n",
    "  print('The two datasets likely come from the same distribution')\n",
    "else:\n",
    "  print('The two datasets do not come from the same distribution')\n"
   ]
  },
  {
   "cell_type": "code",
   "execution_count": null,
   "id": "44e47715",
   "metadata": {},
   "outputs": [],
   "source": []
  }
 ],
 "metadata": {
  "kernelspec": {
   "display_name": "Python 3",
   "language": "python",
   "name": "python3"
  },
  "language_info": {
   "codemirror_mode": {
    "name": "ipython",
    "version": 3
   },
   "file_extension": ".py",
   "mimetype": "text/x-python",
   "name": "python",
   "nbconvert_exporter": "python",
   "pygments_lexer": "ipython3",
   "version": "3.8.8"
  }
 },
 "nbformat": 4,
 "nbformat_minor": 5
}
